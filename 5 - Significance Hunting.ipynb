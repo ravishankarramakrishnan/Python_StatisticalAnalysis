{
 "cells": [
  {
   "cell_type": "code",
   "execution_count": 1,
   "metadata": {},
   "outputs": [],
   "source": [
    "# Investigate Junkfood and Acne link\n",
    "\n",
    "# Importing the Libraries\n",
    "\n",
    "import numpy as np\n",
    "import pandas as pd\n",
    "import matplotlib.pyplot as plt\n",
    "%matplotlib inline"
   ]
  },
  {
   "cell_type": "code",
   "execution_count": 2,
   "metadata": {},
   "outputs": [],
   "source": [
    "# Data\n",
    "\n",
    "df = pd.read_csv(\"data/6_Conclusion/Significance_Huntings/junkfood.csv\")"
   ]
  },
  {
   "cell_type": "code",
   "execution_count": 3,
   "metadata": {},
   "outputs": [
    {
     "data": {
      "text/html": [
       "<div>\n",
       "<style scoped>\n",
       "    .dataframe tbody tr th:only-of-type {\n",
       "        vertical-align: middle;\n",
       "    }\n",
       "\n",
       "    .dataframe tbody tr th {\n",
       "        vertical-align: top;\n",
       "    }\n",
       "\n",
       "    .dataframe thead th {\n",
       "        text-align: right;\n",
       "    }\n",
       "</style>\n",
       "<table border=\"1\" class=\"dataframe\">\n",
       "  <thead>\n",
       "    <tr style=\"text-align: right;\">\n",
       "      <th></th>\n",
       "      <th>Acne</th>\n",
       "      <th>Food</th>\n",
       "      <th>Frequency</th>\n",
       "    </tr>\n",
       "  </thead>\n",
       "  <tbody>\n",
       "    <tr>\n",
       "      <th>0</th>\n",
       "      <td>5</td>\n",
       "      <td>Burgers</td>\n",
       "      <td>21</td>\n",
       "    </tr>\n",
       "    <tr>\n",
       "      <th>1</th>\n",
       "      <td>6</td>\n",
       "      <td>Chocolate</td>\n",
       "      <td>26</td>\n",
       "    </tr>\n",
       "    <tr>\n",
       "      <th>2</th>\n",
       "      <td>5</td>\n",
       "      <td>Ice cream</td>\n",
       "      <td>17</td>\n",
       "    </tr>\n",
       "    <tr>\n",
       "      <th>3</th>\n",
       "      <td>1</td>\n",
       "      <td>Ice cream</td>\n",
       "      <td>1</td>\n",
       "    </tr>\n",
       "    <tr>\n",
       "      <th>4</th>\n",
       "      <td>0</td>\n",
       "      <td>Cake</td>\n",
       "      <td>2</td>\n",
       "    </tr>\n",
       "  </tbody>\n",
       "</table>\n",
       "</div>"
      ],
      "text/plain": [
       "   Acne       Food  Frequency\n",
       "0     5    Burgers         21\n",
       "1     6  Chocolate         26\n",
       "2     5  Ice cream         17\n",
       "3     1  Ice cream          1\n",
       "4     0       Cake          2"
      ]
     },
     "execution_count": 3,
     "metadata": {},
     "output_type": "execute_result"
    }
   ],
   "source": [
    "# Investigate\n",
    "\n",
    "df.head()"
   ]
  },
  {
   "cell_type": "code",
   "execution_count": 4,
   "metadata": {},
   "outputs": [
    {
     "data": {
      "text/html": [
       "<div>\n",
       "<style scoped>\n",
       "    .dataframe tbody tr th:only-of-type {\n",
       "        vertical-align: middle;\n",
       "    }\n",
       "\n",
       "    .dataframe tbody tr th {\n",
       "        vertical-align: top;\n",
       "    }\n",
       "\n",
       "    .dataframe thead th {\n",
       "        text-align: right;\n",
       "    }\n",
       "</style>\n",
       "<table border=\"1\" class=\"dataframe\">\n",
       "  <thead>\n",
       "    <tr style=\"text-align: right;\">\n",
       "      <th></th>\n",
       "      <th>Acne</th>\n",
       "      <th>Frequency</th>\n",
       "    </tr>\n",
       "  </thead>\n",
       "  <tbody>\n",
       "    <tr>\n",
       "      <th>Acne</th>\n",
       "      <td>1.000000</td>\n",
       "      <td>0.018163</td>\n",
       "    </tr>\n",
       "    <tr>\n",
       "      <th>Frequency</th>\n",
       "      <td>0.018163</td>\n",
       "      <td>1.000000</td>\n",
       "    </tr>\n",
       "  </tbody>\n",
       "</table>\n",
       "</div>"
      ],
      "text/plain": [
       "               Acne  Frequency\n",
       "Acne       1.000000   0.018163\n",
       "Frequency  0.018163   1.000000"
      ]
     },
     "execution_count": 4,
     "metadata": {},
     "output_type": "execute_result"
    }
   ],
   "source": [
    "# Look for Correlations in the Dataset. Looks only Numeric Columns\n",
    "\n",
    "df.corr()"
   ]
  },
  {
   "cell_type": "code",
   "execution_count": 5,
   "metadata": {},
   "outputs": [
    {
     "name": "stdout",
     "output_type": "stream",
     "text": [
      "14.5357833655706\n",
      "14.878205128205128\n"
     ]
    }
   ],
   "source": [
    "# Check the Mean and Frequency of them, to identify whether less or more acne can have impact on Frequency\n",
    "\n",
    "print(df.loc[df['Acne'] < 3, \"Frequency\"].mean())\n",
    "print(df.loc[df['Acne'] > 7, \"Frequency\"].mean())"
   ]
  },
  {
   "cell_type": "code",
   "execution_count": 6,
   "metadata": {},
   "outputs": [],
   "source": [
    "# Null Hypothesis: The Frequency of Junk Food does not cause(Correlate) with Acne"
   ]
  },
  {
   "cell_type": "code",
   "execution_count": 7,
   "metadata": {},
   "outputs": [
    {
     "name": "stdout",
     "output_type": "stream",
     "text": [
      "The Correlation is 0.02 and the P Value is 0.57\n"
     ]
    }
   ],
   "source": [
    "# Testing Null Hypothesis using Pearson's Correlation Test (Is Correlation Statistically Significant)\n",
    "\n",
    "from scipy.stats import pearsonr\n",
    "\n",
    "correlation, pvalue = pearsonr(df['Acne'], df[\"Frequency\"])\n",
    "print(\"The Correlation is {} and the P Value is {}\".format(round(correlation, 2), round(pvalue, 2)))"
   ]
  },
  {
   "cell_type": "code",
   "execution_count": 8,
   "metadata": {},
   "outputs": [],
   "source": [
    "# P value of 0.57 means It is a Random Chance, So we are Not Rejecting the Null Hypothesis"
   ]
  },
  {
   "cell_type": "code",
   "execution_count": 9,
   "metadata": {},
   "outputs": [
    {
     "name": "stdout",
     "output_type": "stream",
     "text": [
      "['Burgers' 'Chocolate' 'Ice cream' 'Cake' 'Donuts' 'Lollies' 'Pure Sugar'\n",
      " 'Cheese Pizza' 'Brownies' 'Milkshakes' 'Soft Drink']\n"
     ]
    }
   ],
   "source": [
    "# But we need to Do this by checking the Sort of the Food\n",
    "\n",
    "foods = df[\"Food\"].unique()\n",
    "print(foods)"
   ]
  },
  {
   "cell_type": "code",
   "execution_count": 17,
   "metadata": {},
   "outputs": [
    {
     "name": "stdout",
     "output_type": "stream",
     "text": [
      "No Significant Correlation for Burgers !!!\n",
      "No Significant Correlation for Chocolate !!!\n",
      "No Significant Correlation for Ice cream !!!\n",
      "Significant Correlation (P Value - 0.033) between Cake : 0.229 !!!\n",
      "No Significant Correlation for Donuts !!!\n",
      "No Significant Correlation for Lollies !!!\n",
      "No Significant Correlation for Pure Sugar !!!\n",
      "No Significant Correlation for Cheese Pizza !!!\n",
      "No Significant Correlation for Brownies !!!\n",
      "No Significant Correlation for Milkshakes !!!\n",
      "No Significant Correlation for Soft Drink !!!\n"
     ]
    }
   ],
   "source": [
    "# Check if all foods correlate/cause Acne\n",
    "\n",
    "alpha = 0.05 # Critical Value (like p value)\n",
    "\n",
    "for f in foods:\n",
    "    df2 = df.loc[df[\"Food\"] == f]\n",
    "    correlation, pvalue = pearsonr(df2['Acne'], df2[\"Frequency\"])\n",
    "    \n",
    "    if pvalue < alpha:\n",
    "        print(\"Significant Correlation (P Value - {}) between {} : {} !!!\".format(round(pvalue, 3), f, round(correlation, 3)))\n",
    "    else:\n",
    "        print(\"No Significant Correlation for {} !!!\".format(f))"
   ]
  }
 ],
 "metadata": {
  "kernelspec": {
   "display_name": "Python 3",
   "language": "python",
   "name": "python3"
  },
  "language_info": {
   "codemirror_mode": {
    "name": "ipython",
    "version": 3
   },
   "file_extension": ".py",
   "mimetype": "text/x-python",
   "name": "python",
   "nbconvert_exporter": "python",
   "pygments_lexer": "ipython3",
   "version": "3.7.3"
  }
 },
 "nbformat": 4,
 "nbformat_minor": 2
}
